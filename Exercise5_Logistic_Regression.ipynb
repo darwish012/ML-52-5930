{
 "cells": [
  {
   "cell_type": "markdown",
   "metadata": {
    "id": "rZN_86fWjqHN"
   },
   "source": [
    "# Logistic Regression Project Exercise \n",
    "\n",
    "**GOAL: Create a Classification Model that can predict whether or not a person has presence of heart disease based on physical features of that person (age,sex, cholesterol, etc...)**\n",
    "\n",
    "**Complete the TASKs written in bold below.**"
   ]
  },
  {
   "cell_type": "markdown",
   "metadata": {
    "id": "sJKLgXjLjqHN"
   },
   "source": [
    "## Imports\n",
    "\n",
    "**TASK: Run the cell below to import the necessary libraries.**"
   ]
  },
  {
   "cell_type": "code",
   "execution_count": 5,
   "metadata": {
    "id": "LPDMoRvnjqHO"
   },
   "outputs": [],
   "source": [
    "import numpy as np\n",
    "import pandas as pd\n",
    "import seaborn as sns\n",
    "import matplotlib.pyplot as plt"
   ]
  },
  {
   "cell_type": "markdown",
   "metadata": {
    "id": "9g3pKzgmjqHO"
   },
   "source": [
    "## Data\n",
    "\n",
    "This database contains 14 physical attributes based on physical testing of a patient. Blood samples are taken and the patient also conducts a brief exercise test. The \"goal\" field refers to the presence of heart disease in the patient. It is integer (0 for no presence, 1 for presence). In general, to confirm 100% if a patient has heart disease can be quite an invasive process, so if we can create a model that accurately predicts the likelihood of heart disease, we can help avoid expensive and invasive procedures.\n",
    "\n",
    "Content\n",
    "\n",
    "Attribute Information:\n",
    "\n",
    "* age\n",
    "* sex\n",
    "* chest pain type (4 values)\n",
    "* resting blood pressure\n",
    "* serum cholestoral in mg/dl\n",
    "* fasting blood sugar > 120 mg/dl\n",
    "* resting electrocardiographic results (values 0,1,2)\n",
    "* maximum heart rate achieved\n",
    "* exercise induced angina\n",
    "* oldpeak = ST depression induced by exercise relative to rest\n",
    "* the slope of the peak exercise ST segment\n",
    "* number of major vessels (0-3) colored by flourosopy\n",
    "* thal: 3 = normal; 6 = fixed defect; 7 = reversable defect\n",
    "* target:0 for no presence of heart disease, 1 for presence of heart disease\n",
    "\n",
    "Original Source: https://archive.ics.uci.edu/ml/datasets/Heart+Disease\n"
   ]
  },
  {
   "cell_type": "markdown",
   "metadata": {
    "id": "IIQN4yMHjqHP"
   },
   "source": [
    "----\n",
    "\n",
    "**TASK: Run the cell below to read in the data.**"
   ]
  },
  {
   "cell_type": "code",
   "execution_count": 9,
   "metadata": {
    "id": "13Jsz1zsjqHP"
   },
   "outputs": [],
   "source": [
    "import numpy as np\n",
    "import pandas as pd\n",
    "import seaborn as sns\n",
    "import matplotlib.pyplot as plt\n",
    "df = pd.read_csv('heart.csv')"
   ]
  },
  {
   "cell_type": "code",
   "execution_count": 11,
   "metadata": {
    "id": "SPxhrU7FjqHQ"
   },
   "outputs": [
    {
     "data": {
      "text/html": [
       "<div>\n",
       "<style scoped>\n",
       "    .dataframe tbody tr th:only-of-type {\n",
       "        vertical-align: middle;\n",
       "    }\n",
       "\n",
       "    .dataframe tbody tr th {\n",
       "        vertical-align: top;\n",
       "    }\n",
       "\n",
       "    .dataframe thead th {\n",
       "        text-align: right;\n",
       "    }\n",
       "</style>\n",
       "<table border=\"1\" class=\"dataframe\">\n",
       "  <thead>\n",
       "    <tr style=\"text-align: right;\">\n",
       "      <th></th>\n",
       "      <th>age</th>\n",
       "      <th>sex</th>\n",
       "      <th>cp</th>\n",
       "      <th>trestbps</th>\n",
       "      <th>chol</th>\n",
       "      <th>fbs</th>\n",
       "      <th>restecg</th>\n",
       "      <th>thalach</th>\n",
       "      <th>exang</th>\n",
       "      <th>oldpeak</th>\n",
       "      <th>slope</th>\n",
       "      <th>ca</th>\n",
       "      <th>thal</th>\n",
       "      <th>target</th>\n",
       "    </tr>\n",
       "  </thead>\n",
       "  <tbody>\n",
       "    <tr>\n",
       "      <th>0</th>\n",
       "      <td>63</td>\n",
       "      <td>1</td>\n",
       "      <td>3</td>\n",
       "      <td>145</td>\n",
       "      <td>233</td>\n",
       "      <td>1</td>\n",
       "      <td>0</td>\n",
       "      <td>150</td>\n",
       "      <td>0</td>\n",
       "      <td>2.3</td>\n",
       "      <td>0</td>\n",
       "      <td>0</td>\n",
       "      <td>1</td>\n",
       "      <td>1</td>\n",
       "    </tr>\n",
       "    <tr>\n",
       "      <th>1</th>\n",
       "      <td>37</td>\n",
       "      <td>1</td>\n",
       "      <td>2</td>\n",
       "      <td>130</td>\n",
       "      <td>250</td>\n",
       "      <td>0</td>\n",
       "      <td>1</td>\n",
       "      <td>187</td>\n",
       "      <td>0</td>\n",
       "      <td>3.5</td>\n",
       "      <td>0</td>\n",
       "      <td>0</td>\n",
       "      <td>2</td>\n",
       "      <td>1</td>\n",
       "    </tr>\n",
       "    <tr>\n",
       "      <th>2</th>\n",
       "      <td>41</td>\n",
       "      <td>0</td>\n",
       "      <td>1</td>\n",
       "      <td>130</td>\n",
       "      <td>204</td>\n",
       "      <td>0</td>\n",
       "      <td>0</td>\n",
       "      <td>172</td>\n",
       "      <td>0</td>\n",
       "      <td>1.4</td>\n",
       "      <td>2</td>\n",
       "      <td>0</td>\n",
       "      <td>2</td>\n",
       "      <td>1</td>\n",
       "    </tr>\n",
       "    <tr>\n",
       "      <th>3</th>\n",
       "      <td>56</td>\n",
       "      <td>1</td>\n",
       "      <td>1</td>\n",
       "      <td>120</td>\n",
       "      <td>236</td>\n",
       "      <td>0</td>\n",
       "      <td>1</td>\n",
       "      <td>178</td>\n",
       "      <td>0</td>\n",
       "      <td>0.8</td>\n",
       "      <td>2</td>\n",
       "      <td>0</td>\n",
       "      <td>2</td>\n",
       "      <td>1</td>\n",
       "    </tr>\n",
       "    <tr>\n",
       "      <th>4</th>\n",
       "      <td>57</td>\n",
       "      <td>0</td>\n",
       "      <td>0</td>\n",
       "      <td>120</td>\n",
       "      <td>354</td>\n",
       "      <td>0</td>\n",
       "      <td>1</td>\n",
       "      <td>163</td>\n",
       "      <td>1</td>\n",
       "      <td>0.6</td>\n",
       "      <td>2</td>\n",
       "      <td>0</td>\n",
       "      <td>2</td>\n",
       "      <td>1</td>\n",
       "    </tr>\n",
       "  </tbody>\n",
       "</table>\n",
       "</div>"
      ],
      "text/plain": [
       "   age  sex  cp  trestbps  chol  fbs  restecg  thalach  exang  oldpeak  slope  \\\n",
       "0   63    1   3       145   233    1        0      150      0      2.3      0   \n",
       "1   37    1   2       130   250    0        1      187      0      3.5      0   \n",
       "2   41    0   1       130   204    0        0      172      0      1.4      2   \n",
       "3   56    1   1       120   236    0        1      178      0      0.8      2   \n",
       "4   57    0   0       120   354    0        1      163      1      0.6      2   \n",
       "\n",
       "   ca  thal  target  \n",
       "0   0     1       1  \n",
       "1   0     2       1  \n",
       "2   0     2       1  \n",
       "3   0     2       1  \n",
       "4   0     2       1  "
      ]
     },
     "execution_count": 11,
     "metadata": {},
     "output_type": "execute_result"
    }
   ],
   "source": [
    "df.head()"
   ]
  },
  {
   "cell_type": "markdown",
   "metadata": {
    "id": "zA7pV3gNjqHU"
   },
   "source": [
    "----\n",
    "----\n",
    "\n",
    "# Machine Learning\n",
    "\n",
    "## Train | Test Split and Scaling\n",
    "\n",
    "**TASK: Separate the features from the labels into 2 objects, X and y.**"
   ]
  },
  {
   "cell_type": "code",
   "execution_count": 14,
   "metadata": {
    "id": "CUrjYHmcjqHU"
   },
   "outputs": [],
   "source": [
    "from sklearn.model_selection import train_test_split\n",
    "from sklearn.preprocessing import StandardScaler"
   ]
  },
  {
   "cell_type": "code",
   "execution_count": 16,
   "metadata": {
    "id": "vauL4RlyjqHV"
   },
   "outputs": [],
   "source": [
    "X = df.drop('target',axis=1)\n",
    "y = df['target']"
   ]
  },
  {
   "cell_type": "markdown",
   "metadata": {
    "id": "N2xajTOCjqHV"
   },
   "source": [
    "**TASK: Perform a train test split on the data, with the test size of 10% and a random_state of 101.**"
   ]
  },
  {
   "cell_type": "code",
   "execution_count": 19,
   "metadata": {
    "id": "ksWtAuLcjqHV"
   },
   "outputs": [],
   "source": [
    "X_train, X_test, y_train, y_test = train_test_split(X, y, test_size=0.1, random_state=101)"
   ]
  },
  {
   "cell_type": "code",
   "execution_count": 21,
   "metadata": {
    "id": "P-tl0TKZjqHV"
   },
   "outputs": [],
   "source": [
    "scaler = StandardScaler()\n",
    "scaled_X_train = scaler.fit_transform(X_train)\n",
    "scaled_X_test = scaler.transform(X_test)"
   ]
  },
  {
   "cell_type": "markdown",
   "metadata": {
    "id": "4nNl4yrkjqHW"
   },
   "source": [
    "## Logistic Regression Model\n",
    "\n",
    "**TASK: Create a Logistic Regression model "
   ]
  },
  {
   "cell_type": "markdown",
   "metadata": {
    "id": "3BuRqTMSjqHV"
   },
   "source": [
    "**TASK: Create a StandardScaler object and normalize the X train and test set feature data. Make sure you only fit to the training data to avoid data leakage (data knowledge leaking from the test set).**"
   ]
  },
  {
   "cell_type": "code",
   "execution_count": 25,
   "metadata": {
    "id": "Qvwt4AuijqHV"
   },
   "outputs": [],
   "source": [
    "from sklearn.linear_model import LogisticRegression\n",
    "log_model = LogisticRegression()\n",
    "log_model.fit(scaled_X_train,y_train)\n",
    "y_pred = log_model.predict(scaled_X_test)"
   ]
  },
  {
   "cell_type": "markdown",
   "metadata": {
    "id": "5pS98rW-jqHX"
   },
   "source": [
    "### Coeffecients\n",
    "\n",
    "**TASK: Report back the model's coefficients.**"
   ]
  },
  {
   "cell_type": "code",
   "execution_count": 28,
   "metadata": {},
   "outputs": [
    {
     "name": "stdout",
     "output_type": "stream",
     "text": [
      "Intercept: [0.1769285]\n",
      "Coefficients: [[-0.07200459 -0.73512355  0.89380134 -0.26263404 -0.21252883  0.04626827\n",
      "   0.12005867  0.4336183  -0.42815523 -0.5261547   0.38193418 -0.85118686\n",
      "  -0.57463534]]\n"
     ]
    }
   ],
   "source": [
    "# Get coefficients\n",
    "coefficients = log_model.coef_\n",
    "intercept = log_model.intercept_\n",
    "\n",
    "print(\"Intercept:\", intercept)\n",
    "print(\"Coefficients:\", coefficients)"
   ]
  },
  {
   "cell_type": "markdown",
   "metadata": {
    "id": "ZV4aHTbEjqHY"
   },
   "source": [
    "---------\n",
    "\n",
    "## Model Performance Evaluation"
   ]
  },
  {
   "cell_type": "markdown",
   "metadata": {
    "id": "QwoC9CPHjqHZ"
   },
   "source": [
    "**TASK: Let's now evaluate your model on the remaining 10% of the data, the test set.**\n",
    "\n",
    "**TASK: Create the following evaluations:**\n",
    "* Confusion Matrix Array\n",
    "* Confusion Matrix Plot\n",
    "* Classification Report"
   ]
  },
  {
   "cell_type": "code",
   "execution_count": 35,
   "metadata": {},
   "outputs": [
    {
     "data": {
      "text/plain": [
       "0.8387096774193549"
      ]
     },
     "execution_count": 35,
     "metadata": {},
     "output_type": "execute_result"
    }
   ],
   "source": [
    "from sklearn.metrics import accuracy_score,confusion_matrix,classification_report\n",
    "accuracy_score(y_test,y_pred)"
   ]
  },
  {
   "cell_type": "code",
   "execution_count": 37,
   "metadata": {},
   "outputs": [
    {
     "data": {
      "text/plain": [
       "array([[12,  3],\n",
       "       [ 2, 14]], dtype=int64)"
      ]
     },
     "execution_count": 37,
     "metadata": {},
     "output_type": "execute_result"
    }
   ],
   "source": [
    "confusion_matrix(y_test,y_pred)"
   ]
  },
  {
   "cell_type": "code",
   "execution_count": 39,
   "metadata": {},
   "outputs": [
    {
     "data": {
      "image/png": "[encoded data removed]",
      "text/plain": [
       "<Figure size 640x480 with 2 Axes>"
      ]
     },
     "metadata": {},
     "output_type": "display_data"
    }
   ],
   "source": [
    "from sklearn.metrics import confusion_matrix, ConfusionMatrixDisplay\n",
    "import matplotlib.pyplot as plt\n",
    "\n",
    "# Predict class labels\n",
    "\n",
    "# Generate confusion matrix\n",
    "cm = confusion_matrix(y_test, y_pred)\n",
    "\n",
    "# Plot\n",
    "disp = ConfusionMatrixDisplay(confusion_matrix=cm)\n",
    "disp.plot(cmap='Blues')  # Optional: add color map\n",
    "plt.title(\"Confusion Matrix\")\n",
    "plt.show()\n"
   ]
  },
  {
   "cell_type": "code",
   "execution_count": 41,
   "metadata": {},
   "outputs": [
    {
     "name": "stdout",
     "output_type": "stream",
     "text": [
      "              precision    recall  f1-score   support\n",
      "\n",
      "           0       0.86      0.80      0.83        15\n",
      "           1       0.82      0.88      0.85        16\n",
      "\n",
      "    accuracy                           0.84        31\n",
      "   macro avg       0.84      0.84      0.84        31\n",
      "weighted avg       0.84      0.84      0.84        31\n",
      "\n"
     ]
    }
   ],
   "source": [
    "print(classification_report(y_test,y_pred))"
   ]
  },
  {
   "cell_type": "markdown",
   "metadata": {
    "id": "Nu2jGbeijqHa"
   },
   "source": [
    "### Performance Curves\n",
    "\n",
    "**TASK: Create the ROC Curve.**"
   ]
  },
  {
   "cell_type": "code",
   "execution_count": 43,
   "metadata": {
    "id": "WrlXXwinjqHa"
   },
   "outputs": [
    {
     "name": "stderr",
     "output_type": "stream",
     "text": [
      "C:\\ProgramData\\anaconda3\\Lib\\site-packages\\sklearn\\base.py:432: UserWarning: X has feature names, but LogisticRegression was fitted without feature names\n",
      "  warnings.warn(\n"
     ]
    },
    {
     "data": {
      "image/png": "[encoded data removed]",
      "text/plain": [
       "<Figure size 640x480 with 1 Axes>"
      ]
     },
     "metadata": {},
     "output_type": "display_data"
    }
   ],
   "source": [
    "from sklearn.metrics import RocCurveDisplay\n",
    "from sklearn.linear_model import LogisticRegression\n",
    "import matplotlib.pyplot as plt\n",
    "\n",
    "\n",
    "# Plot ROC using new method\n",
    "RocCurveDisplay.from_estimator(log_model, X_test, y_test)\n",
    "plt.title(\"ROC Curve - Logistic Regression\")\n",
    "plt.show()\n"
   ]
  },
  {
   "cell_type": "markdown",
   "metadata": {
    "id": "HZSsg_z_jqHb"
   },
   "source": [
    "**Final Task: A patient with the following features has come into the medical office:**\n",
    "\n",
    "    age          48.0\n",
    "    sex           0.0\n",
    "    cp            2.0\n",
    "    trestbps    130.0\n",
    "    chol        275.0\n",
    "    fbs           0.0\n",
    "    restecg       1.0\n",
    "    thalach     139.0\n",
    "    exang         0.0\n",
    "    oldpeak       0.2\n",
    "    slope         2.0\n",
    "    ca            0.0\n",
    "    thal          2.0"
   ]
  },
  {
   "cell_type": "markdown",
   "metadata": {
    "id": "9PkgbeKXjqHb"
   },
   "source": [
    "**TASK: What does your model predict for this patient? Do they have heart disease? How \"sure\" is your model of this prediction?**\n",
    "\n",
    "*For convience, we created an array of the features for the patient above*"
   ]
  },
  {
   "cell_type": "code",
   "execution_count": 47,
   "metadata": {
    "id": "oYG4mR8hjqHb"
   },
   "outputs": [],
   "source": [
    "patient = [[ 54. ,   1. ,   0. , 122. , 286. ,   0. ,   0. , 116. ,   1. ,\n",
    "          3.2,   1. ,   2. ,   2. ]]"
   ]
  },
  {
   "cell_type": "code",
   "execution_count": 51,
   "metadata": {
    "id": "QJE3TJLjjqHb"
   },
   "outputs": [
    {
     "name": "stdout",
     "output_type": "stream",
     "text": [
      "Predicted class: 0\n",
      "Probability of class 0: 1.00\n",
      "Probability of class 1: 0.00\n"
     ]
    }
   ],
   "source": [
    "# CODE HEREimport numpy as np\n",
    "\n",
    "# Your patient data\n",
    "\n",
    "# Predict class (0 or 1)\n",
    "predicted_class = log_model.predict(patient)\n",
    "print(\"Predicted class:\", predicted_class[0])\n",
    "\n",
    "# Predict probabilities\n",
    "predicted_proba = log_model.predict_proba(patient)\n",
    "print(f\"Probability of class 0: {predicted_proba[0][0]:.2f}\")\n",
    "print(f\"Probability of class 1: {predicted_proba[0][1]:.2f}\")\n"
   ]
  },
  {
   "cell_type": "code",
   "execution_count": 19,
   "metadata": {
    "id": "Rxst4NQSjqHb"
   },
   "outputs": [],
   "source": [
    "# EXPECTED PREDICTION : he has a heart disease 100 percent"
   ]
  },
  {
   "cell_type": "markdown",
   "metadata": {
    "id": "cNnfN5pNjqHc"
   },
   "source": [
    "----\n",
    "\n",
    "## Great Job!"
   ]
  }
 ],
 "metadata": {
  "anaconda-cloud": {},
  "colab": {
   "provenance": []
  },
  "kernelspec": {
   "display_name": "Python 3 (ipykernel)",
   "language": "python",
   "name": "python3"
  },
  "language_info": {
   "codemirror_mode": {
    "name": "ipython",
    "version": 3
   },
   "file_extension": ".py",
   "mimetype": "text/x-python",
   "name": "python",
   "nbconvert_exporter": "python",
   "pygments_lexer": "ipython3",
   "version": "3.11.7"
  }
 },
 "nbformat": 4,
 "nbformat_minor": 4
}
